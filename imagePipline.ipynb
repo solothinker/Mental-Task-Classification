{
 "cells": [
  {
   "cell_type": "code",
   "execution_count": 1,
   "id": "9463215c",
   "metadata": {},
   "outputs": [],
   "source": [
    "from glob import glob\n",
    "import tensorflow as tf"
   ]
  },
  {
   "cell_type": "code",
   "execution_count": 3,
   "id": "1dd26edd",
   "metadata": {},
   "outputs": [],
   "source": [
    "image_path_list = glob(r'C:\\Users\\Ashu\\Desktop\\Git\\dataFiles\\dogs-vs-cats\\train\\*.jpg')\n",
    "data = tf.data.Dataset.list_files(image_path_list)"
   ]
  },
  {
   "cell_type": "code",
   "execution_count": 4,
   "id": "eda23547",
   "metadata": {},
   "outputs": [
    {
     "data": {
      "text/plain": [
       "<ShuffleDataset shapes: (), types: tf.string>"
      ]
     },
     "execution_count": 4,
     "metadata": {},
     "output_type": "execute_result"
    }
   ],
   "source": [
    "data"
   ]
  },
  {
   "cell_type": "code",
   "execution_count": null,
   "id": "0fa0370b",
   "metadata": {},
   "outputs": [],
   "source": []
  }
 ],
 "metadata": {
  "kernelspec": {
   "display_name": "Python 3",
   "language": "python",
   "name": "python3"
  },
  "language_info": {
   "codemirror_mode": {
    "name": "ipython",
    "version": 3
   },
   "file_extension": ".py",
   "mimetype": "text/x-python",
   "name": "python",
   "nbconvert_exporter": "python",
   "pygments_lexer": "ipython3",
   "version": "3.8.8"
  }
 },
 "nbformat": 4,
 "nbformat_minor": 5
}

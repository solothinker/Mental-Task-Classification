{
 "cells": [
  {
   "cell_type": "code",
   "execution_count": 1,
   "id": "35a9de0a",
   "metadata": {},
   "outputs": [],
   "source": [
    "import numpy as np\n",
    "import matplotlib.pyplot as plt\n",
    "import tensorflow as tf\n",
    "import os\n",
    "from os import listdir\n",
    "from os.path import join,isfile\n",
    "import random\n",
    "import pandas as pd\n",
    "from scipy import stats"
   ]
  },
  {
   "cell_type": "code",
   "execution_count": 2,
   "id": "c4c0ebad",
   "metadata": {},
   "outputs": [],
   "source": [
    "splitData = 0.1\n",
    "myPath = r'C:\\Users\\Ashu\\Desktop\\Git\\papers\\eeg_csv'\n",
    "onlyfile = [join(myPath,f) for f in listdir(myPath) if isfile(join(myPath,f))]\n",
    "random.shuffle(onlyfile)\n",
    "splitData = int(splitData*len(onlyfile))\n",
    "trainPath,testPath = onlyfile[splitData:],onlyfile[:splitData]"
   ]
  },
  {
   "cell_type": "code",
   "execution_count": 3,
   "id": "95dc83f8",
   "metadata": {},
   "outputs": [],
   "source": [
    "train_ds = tf.data.Dataset.list_files(trainPath)\n",
    "test_ds = tf.data.Dataset.list_files(testPath)"
   ]
  },
  {
   "cell_type": "code",
   "execution_count": 4,
   "id": "cb78f32d",
   "metadata": {},
   "outputs": [],
   "source": [
    "trainData = pd.read_csv(trainPath[0])#pd.concat((pd.read_csv(filePath) for filePath in trainPath),ignore_index=True)\n",
    "testData = pd.read_csv(testPath[0])#pd.concat((pd.read_csv(filePath) for filePath in testPath),ignore_index=True)"
   ]
  },
  {
   "cell_type": "code",
   "execution_count": 25,
   "id": "676ad267",
   "metadata": {},
   "outputs": [],
   "source": [
    "trainData = trainData[['EEG Fp1','Action']]\n",
    "testData = testData[['EEG Fp1','Action']]"
   ]
  },
  {
   "cell_type": "code",
   "execution_count": 7,
   "id": "ffd30537",
   "metadata": {},
   "outputs": [],
   "source": [
    "from tensorflow import keras\n",
    "from keras import Input\n",
    "from keras.models import Sequential\n",
    "from keras.layers import Dense\n",
    "from keras.layers import Flatten\n",
    "from keras.layers import Dropout\n",
    "from keras.layers.convolutional import Conv1D\n",
    "from keras.layers.convolutional import MaxPooling1D"
   ]
  },
  {
   "cell_type": "code",
   "execution_count": 26,
   "id": "4490e3db",
   "metadata": {},
   "outputs": [],
   "source": [
    "#https://github.com/ni79ls/har-keras-cnn\n",
    "def create_segments_and_labels(df, time_steps, step, label_name):\n",
    "    # x, y, z acceleration as features\n",
    "    N_FEATURES = 1\n",
    "    segments = []\n",
    "    labels = []\n",
    "    for i in range(0, len(df) - time_steps, step):\n",
    "        xs = df['EEG Fp1'].values[i: i + time_steps]\n",
    "        label = stats.mode(df[label_name][i: i + time_steps])[0][0]\n",
    "        segments.append([xs])\n",
    "        labels.append(label)\n",
    "\n",
    "    # Bring the segments into a better shape\n",
    "    reshaped_segments = np.asarray(segments, dtype= np.float32).reshape(-1, time_steps, N_FEATURES)\n",
    "    labels = np.asarray(labels)\n",
    "\n",
    "    return reshaped_segments, labels"
   ]
  },
  {
   "cell_type": "code",
   "execution_count": 27,
   "id": "8603a017",
   "metadata": {},
   "outputs": [],
   "source": [
    "time_window_size =5000\n",
    "xTrain,yTrain = create_segments_and_labels(trainData,time_window_size,1,'Action')\n",
    "xTest,yTest = create_segments_and_labels(testData,time_window_size,1,'Action')"
   ]
  },
  {
   "cell_type": "code",
   "execution_count": 39,
   "id": "f73ef3b4",
   "metadata": {},
   "outputs": [
    {
     "name": "stdout",
     "output_type": "stream",
     "text": [
      "Model: \"EEG\"\n",
      "_________________________________________________________________\n",
      "Layer (type)                 Output Shape              Param #   \n",
      "=================================================================\n",
      "Layer1 (Conv1D)              (None, 4996, 16)          96        \n",
      "_________________________________________________________________\n",
      "Layer2 (Conv1D)              (None, 4992, 32)          2592      \n",
      "_________________________________________________________________\n",
      "Maxpool1d (MaxPooling1D)     (None, 2496, 32)          0         \n",
      "_________________________________________________________________\n",
      "Flatten (Flatten)            (None, 79872)             0         \n",
      "_________________________________________________________________\n",
      "Output (Dense)               (None, 1)                 79873     \n",
      "=================================================================\n",
      "Total params: 82,561\n",
      "Trainable params: 82,561\n",
      "Non-trainable params: 0\n",
      "_________________________________________________________________\n"
     ]
    }
   ],
   "source": [
    "time_window_size =5000\n",
    "model = Sequential(name='EEG')\n",
    "# model.add(Input(shape=(time_window_size,1),name='Input'))\n",
    "model.add(Conv1D(filters=16,kernel_size=5,activation='relu',input_shape = (5000,1),name='Layer1'))\n",
    "model.add(Conv1D(filters=32,kernel_size=5,activation='relu',name='Layer2'))\n",
    "model.add(MaxPooling1D(pool_size=2,strides=2,name='Maxpool1d'))\n",
    "model.add(Flatten(name='Flatten'))\n",
    "model.add(Dense(1,activation='sigmoid',name='Output'))\n",
    "model.summary()"
   ]
  },
  {
   "cell_type": "code",
   "execution_count": 40,
   "id": "f7a3677c",
   "metadata": {},
   "outputs": [
    {
     "data": {
      "image/png": "[encoded data removed]",
      "text/plain": [
       "<IPython.core.display.Image object>"
      ]
     },
     "execution_count": 40,
     "metadata": {},
     "output_type": "execute_result"
    }
   ],
   "source": [
    "tf.keras.utils.plot_model(model, show_shapes=True, rankdir=\"LR\")"
   ]
  },
  {
   "cell_type": "code",
   "execution_count": null,
   "id": "3bbbc456",
   "metadata": {},
   "outputs": [],
   "source": [
    "os.environ['TF_FORCE_GPU_ALLOW_GROWTH'] = 'true'"
   ]
  },
  {
   "cell_type": "code",
   "execution_count": 41,
   "id": "22033c37",
   "metadata": {},
   "outputs": [
    {
     "name": "stdout",
     "output_type": "stream",
     "text": [
      "4300/4300 [==============================] - 362s 84ms/step - loss: 9.9326e-04 - accuracy: 0.9999 - val_loss: 21.8563 - val_accuracy: 0.0000e+00\n"
     ]
    }
   ],
   "source": [
    "optimizer = keras.optimizers.Adam(learning_rate=0.001)\n",
    "model.compile(optimizer=optimizer,loss=tf.keras.losses.BinaryCrossentropy(),metrics=['accuracy'])\n",
    "history = model.fit(xTrain,yTrain,\n",
    "                    batch_size=20,\n",
    "                    epochs=1,verbose=1,\n",
    "                    validation_data=(xTest,yTest)\n",
    "                   )"
   ]
  },
  {
   "cell_type": "code",
   "execution_count": 18,
   "id": "59abbc92",
   "metadata": {},
   "outputs": [
    {
     "data": {
      "image/png": "[encoded data removed]",
      "text/plain": [
       "<Figure size 432x288 with 1 Axes>"
      ]
     },
     "metadata": {
      "needs_background": "light"
     },
     "output_type": "display_data"
    }
   ],
   "source": [
    "plt.plot(history.history['loss'])\n",
    "plt.show()"
   ]
  },
  {
   "cell_type": "code",
   "execution_count": null,
   "id": "a57c9572",
   "metadata": {},
   "outputs": [],
   "source": []
  },
  {
   "cell_type": "code",
   "execution_count": null,
   "id": "1b0e818f",
   "metadata": {},
   "outputs": [],
   "source": []
  },
  {
   "cell_type": "code",
   "execution_count": null,
   "id": "d6c30e32",
   "metadata": {},
   "outputs": [],
   "source": []
  },
  {
   "cell_type": "code",
   "execution_count": null,
   "id": "2553ae11",
   "metadata": {},
   "outputs": [],
   "source": []
  }
 ],
 "metadata": {
  "kernelspec": {
   "display_name": "Python 3",
   "language": "python",
   "name": "python3"
  },
  "language_info": {
   "codemirror_mode": {
    "name": "ipython",
    "version": 3
   },
   "file_extension": ".py",
   "mimetype": "text/x-python",
   "name": "python",
   "nbconvert_exporter": "python",
   "pygments_lexer": "ipython3",
   "version": "3.8.8"
  }
 },
 "nbformat": 4,
 "nbformat_minor": 5
}

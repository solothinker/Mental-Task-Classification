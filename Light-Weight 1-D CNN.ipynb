{
 "cells": [
  {
   "cell_type": "code",
   "execution_count": 4,
   "id": "35a9de0a",
   "metadata": {},
   "outputs": [],
   "source": [
    "import numpy as np\n",
    "import matplotlib.pyplot as plt\n",
    "import tensorflow as tf\n",
    "import os\n",
    "from os import listdir\n",
    "from os.path import join,isfile\n",
    "import random\n",
    "import pandas as pd\n",
    "from scipy import stats"
   ]
  },
  {
   "cell_type": "code",
   "execution_count": 5,
   "id": "c4c0ebad",
   "metadata": {},
   "outputs": [],
   "source": [
    "splitData = 0.1\n",
    "myPath = r'C:\\Users\\Ashu\\Desktop\\Git\\papers\\eeg_csv'\n",
    "onlyfile = [join(myPath,f) for f in listdir(myPath) if isfile(join(myPath,f))]\n",
    "random.shuffle(onlyfile)\n",
    "splitData = int(splitData*len(onlyfile))\n",
    "trainPath,testPath = onlyfile[splitData:],onlyfile[:splitData]"
   ]
  },
  {
   "cell_type": "code",
   "execution_count": 6,
   "id": "cb78f32d",
   "metadata": {},
   "outputs": [],
   "source": [
    "trainData = pd.read_csv(trainPath[0])#pd.concat((pd.read_csv(filePath) for filePath in trainPath),ignore_index=True)\n",
    "testData = pd.read_csv(testPath[0])#pd.concat((pd.read_csv(filePath) for filePath in testPath),ignore_index=True)"
   ]
  },
  {
   "cell_type": "code",
   "execution_count": 7,
   "id": "f6a46a88",
   "metadata": {},
   "outputs": [
    {
     "data": {
      "text/plain": [
       "Index(['EEG Fp1', 'EEG Fp2', 'EEG F3', 'EEG F4', 'EEG F7', 'EEG F8', 'EEG T3',\n",
       "       'EEG T4', 'EEG C3', 'EEG C4', 'EEG T5', 'EEG T6', 'EEG P3', 'EEG P4',\n",
       "       'EEG O1', 'EEG O2', 'EEG Fz', 'EEG Cz', 'EEG Pz', 'EEG A2-A1',\n",
       "       'ECG ECG', 'Action'],\n",
       "      dtype='object')"
      ]
     },
     "execution_count": 7,
     "metadata": {},
     "output_type": "execute_result"
    }
   ],
   "source": [
    "trainData.columns"
   ]
  },
  {
   "cell_type": "code",
   "execution_count": 8,
   "id": "676ad267",
   "metadata": {},
   "outputs": [],
   "source": [
    "trainData = trainData[['EEG Fp1','Action']]\n",
    "testData = testData[['EEG Fp1','Action']]"
   ]
  },
  {
   "cell_type": "code",
   "execution_count": 10,
   "id": "ffd30537",
   "metadata": {},
   "outputs": [],
   "source": [
    "from tensorflow import keras\n",
    "from keras import Input\n",
    "from keras.models import Sequential\n",
    "from keras.layers import Dense\n",
    "from keras.layers import Flatten\n",
    "from keras.layers import Dropout\n",
    "from keras.layers.convolutional import Conv1D\n",
    "from keras.layers.convolutional import MaxPooling1D"
   ]
  },
  {
   "cell_type": "code",
   "execution_count": 11,
   "id": "4490e3db",
   "metadata": {},
   "outputs": [],
   "source": [
    "#https://github.com/ni79ls/har-keras-cnn\n",
    "def create_segments_and_labels(df, time_steps, step, label_name):\n",
    "    # x, y, z acceleration as features\n",
    "    N_FEATURES = 1\n",
    "    segments = []\n",
    "    labels = []\n",
    "    for i in range(0, len(df) - time_steps, step):\n",
    "        xs = df['EEG Fp1'].values[i: i + time_steps]\n",
    "        label = stats.mode(df[label_name][i: i + time_steps])[0][0]\n",
    "        segments.append([xs])\n",
    "        labels.append(label)\n",
    "\n",
    "    # Bring the segments into a better shape\n",
    "    reshaped_segments = np.asarray(segments, dtype= np.float32).reshape(-1, time_steps, N_FEATURES)\n",
    "    labels = np.asarray(labels)\n",
    "\n",
    "    return reshaped_segments, labels"
   ]
  },
  {
   "cell_type": "code",
   "execution_count": 12,
   "id": "8603a017",
   "metadata": {},
   "outputs": [],
   "source": [
    "time_window_size =5000\n",
    "xTrain,yTrain = create_segments_and_labels(trainData,time_window_size,1,'Action')\n",
    "xTest,yTest = create_segments_and_labels(testData,time_window_size,1,'Action')"
   ]
  },
  {
   "cell_type": "code",
   "execution_count": null,
   "id": "202f5b40",
   "metadata": {},
   "outputs": [],
   "source": [
    "xTrain,yTrain = trainData['EEG Fp1'].values,trainData['Action'].values\n",
    "xTest,yTest = testData['EEG Fp1'].values,testData['Action'].values"
   ]
  },
  {
   "cell_type": "code",
   "execution_count": null,
   "id": "e977dc2d",
   "metadata": {},
   "outputs": [],
   "source": [
    "xTrain = xTrain.reshape((xTrain.shape[0],1,1))\n",
    "xTest = xTest.reshape((xTest.shape[0],1,1))\n",
    "yTrain = yTrain.reshape((len(yTrain),1))\n",
    "yTest = yTest.reshape((len(yTest),1))"
   ]
  },
  {
   "cell_type": "code",
   "execution_count": 13,
   "id": "59ba1f21",
   "metadata": {},
   "outputs": [
    {
     "data": {
      "text/plain": [
       "((26000, 5000, 1), (86000, 5000, 1))"
      ]
     },
     "execution_count": 13,
     "metadata": {},
     "output_type": "execute_result"
    }
   ],
   "source": [
    "xTrain.shape,xTest.shape"
   ]
  },
  {
   "cell_type": "code",
   "execution_count": 14,
   "id": "f73ef3b4",
   "metadata": {},
   "outputs": [
    {
     "name": "stdout",
     "output_type": "stream",
     "text": [
      "Model: \"EEG\"\n",
      "_________________________________________________________________\n",
      "Layer (type)                 Output Shape              Param #   \n",
      "=================================================================\n",
      "Layer1 (Conv1D)              (None, 4996, 16)          96        \n",
      "_________________________________________________________________\n",
      "Layer2 (Conv1D)              (None, 4992, 32)          2592      \n",
      "_________________________________________________________________\n",
      "Maxpool1d (MaxPooling1D)     (None, 2496, 32)          0         \n",
      "_________________________________________________________________\n",
      "Flatten (Flatten)            (None, 79872)             0         \n",
      "_________________________________________________________________\n",
      "Output (Dense)               (None, 1)                 79873     \n",
      "=================================================================\n",
      "Total params: 82,561\n",
      "Trainable params: 82,561\n",
      "Non-trainable params: 0\n",
      "_________________________________________________________________\n"
     ]
    }
   ],
   "source": [
    "time_window_size =5000\n",
    "model = Sequential(name='EEG')\n",
    "model.add(Input(shape=(time_window_size,1),name='Input'))\n",
    "model.add(Conv1D(filters=16,kernel_size=5,activation='relu',name='Layer1'))\n",
    "model.add(Conv1D(filters=32,kernel_size=5,activation='relu',name='Layer2'))\n",
    "model.add(MaxPooling1D(pool_size=2,strides=2,name='Maxpool1d'))\n",
    "model.add(Flatten(name='Flatten'))\n",
    "model.add(Dense(1,activation='sigmoid',name='Output'))\n",
    "model.summary()"
   ]
  },
  {
   "cell_type": "code",
   "execution_count": 15,
   "id": "3bbbc456",
   "metadata": {},
   "outputs": [],
   "source": [
    "os.environ['TF_FORCE_GPU_ALLOW_GROWTH'] = 'true'"
   ]
  },
  {
   "cell_type": "code",
   "execution_count": 26,
   "id": "22033c37",
   "metadata": {},
   "outputs": [
    {
     "name": "stdout",
     "output_type": "stream",
     "text": [
      "Epoch 1/20\n",
      "1300/1300 [==============================] - 176s 136ms/step - loss: 3.2316e-10 - accuracy: 1.0000 - val_loss: 21.8517 - val_accuracy: 0.0000e+00\n",
      "Epoch 2/20\n",
      "1300/1300 [==============================] - 179s 138ms/step - loss: 3.2316e-10 - accuracy: 1.0000 - val_loss: 21.8517 - val_accuracy: 0.0000e+00\n",
      "Epoch 3/20\n",
      "1300/1300 [==============================] - 174s 134ms/step - loss: 3.2316e-10 - accuracy: 1.0000 - val_loss: 21.8517 - val_accuracy: 0.0000e+00\n",
      "Epoch 5/20\n",
      "1300/1300 [==============================] - 175s 135ms/step - loss: 3.2316e-10 - accuracy: 1.0000 - val_loss: 21.8517 - val_accuracy: 0.0000e+00\n",
      "Epoch 6/20\n",
      "1300/1300 [==============================] - 149s 114ms/step - loss: 3.2316e-10 - accuracy: 1.0000 - val_loss: 21.8517 - val_accuracy: 0.0000e+00\n",
      "Epoch 7/20\n",
      "1300/1300 [==============================] - 132s 102ms/step - loss: 3.2316e-10 - accuracy: 1.0000 - val_loss: 21.8517 - val_accuracy: 0.0000e+00\n",
      "Epoch 8/20\n",
      "1300/1300 [==============================] - 177s 136ms/step - loss: 3.2316e-10 - accuracy: 1.0000 - val_loss: 21.8517 - val_accuracy: 0.0000e+00\n",
      "Epoch 9/20\n",
      "1300/1300 [==============================] - 175s 135ms/step - loss: 3.2316e-10 - accuracy: 1.0000 - val_loss: 21.8517 - val_accuracy: 0.0000e+00\n",
      "Epoch 10/20\n",
      "1300/1300 [==============================] - 169s 130ms/step - loss: 3.2316e-10 - accuracy: 1.0000 - val_loss: 21.8517 - val_accuracy: 0.0000e+00\n",
      "Epoch 11/20\n",
      "1300/1300 [==============================] - 141s 108ms/step - loss: 3.2316e-10 - accuracy: 1.0000 - val_loss: 21.8517 - val_accuracy: 0.0000e+00\n",
      "Epoch 12/20\n",
      "1300/1300 [==============================] - 108s 83ms/step - loss: 3.2316e-10 - accuracy: 1.0000 - val_loss: 21.8517 - val_accuracy: 0.0000e+00\n",
      "Epoch 13/20\n",
      "1300/1300 [==============================] - 115s 88ms/step - loss: 3.2316e-10 - accuracy: 1.0000 - val_loss: 21.8517 - val_accuracy: 0.0000e+00\n",
      "Epoch 14/20\n",
      "1300/1300 [==============================] - 108s 83ms/step - loss: 3.2316e-10 - accuracy: 1.0000 - val_loss: 21.8517 - val_accuracy: 0.0000e+00\n",
      "Epoch 15/20\n",
      "1300/1300 [==============================] - 107s 82ms/step - loss: 3.2316e-10 - accuracy: 1.0000 - val_loss: 21.8517 - val_accuracy: 0.0000e+00\n",
      "Epoch 16/20\n",
      "1300/1300 [==============================] - 108s 83ms/step - loss: 3.2316e-10 - accuracy: 1.0000 - val_loss: 21.8517 - val_accuracy: 0.0000e+00\n",
      "Epoch 17/20\n",
      "1300/1300 [==============================] - 108s 83ms/step - loss: 3.2316e-10 - accuracy: 1.0000 - val_loss: 21.8517 - val_accuracy: 0.0000e+00\n",
      "Epoch 18/20\n",
      "1300/1300 [==============================] - 108s 83ms/step - loss: 3.2316e-10 - accuracy: 1.0000 - val_loss: 21.8517 - val_accuracy: 0.0000e+00\n",
      "Epoch 19/20\n",
      "1300/1300 [==============================] - 109s 84ms/step - loss: 3.2316e-10 - accuracy: 1.0000 - val_loss: 21.8517 - val_accuracy: 0.0000e+00\n",
      "Epoch 20/20\n",
      "1300/1300 [==============================] - 106s 82ms/step - loss: 3.2316e-10 - accuracy: 1.0000 - val_loss: 21.8517 - val_accuracy: 0.0000e+00\n"
     ]
    }
   ],
   "source": [
    "optimizer = keras.optimizers.Adam(learning_rate=0.001)\n",
    "model.compile(optimizer=optimizer,loss=tf.keras.losses.BinaryCrossentropy(),metrics=['accuracy'])\n",
    "history = model.fit(xTrain,yTrain,\n",
    "                    batch_size=20,\n",
    "                    epochs=20,verbose=1,\n",
    "                    validation_data=(xTest,yTest)\n",
    "                   )"
   ]
  },
  {
   "cell_type": "code",
   "execution_count": 27,
   "id": "59abbc92",
   "metadata": {},
   "outputs": [
    {
     "data": {
      "image/png": "[encoded data removed]",
      "text/plain": [
       "<Figure size 432x288 with 1 Axes>"
      ]
     },
     "metadata": {
      "needs_background": "light"
     },
     "output_type": "display_data"
    }
   ],
   "source": [
    "plt.plot(history.history['loss'])\n",
    "plt.show()"
   ]
  },
  {
   "cell_type": "code",
   "execution_count": 29,
   "id": "a57c9572",
   "metadata": {},
   "outputs": [
    {
     "data": {
      "text/html": [
       "<div>\n",
       "<style scoped>\n",
       "    .dataframe tbody tr th:only-of-type {\n",
       "        vertical-align: middle;\n",
       "    }\n",
       "\n",
       "    .dataframe tbody tr th {\n",
       "        vertical-align: top;\n",
       "    }\n",
       "\n",
       "    .dataframe thead th {\n",
       "        text-align: right;\n",
       "    }\n",
       "</style>\n",
       "<table border=\"1\" class=\"dataframe\">\n",
       "  <thead>\n",
       "    <tr style=\"text-align: right;\">\n",
       "      <th></th>\n",
       "      <th>EEG Fp1</th>\n",
       "      <th>Action</th>\n",
       "    </tr>\n",
       "  </thead>\n",
       "  <tbody>\n",
       "    <tr>\n",
       "      <th>0</th>\n",
       "      <td>3.525820e-06</td>\n",
       "      <td>1</td>\n",
       "    </tr>\n",
       "    <tr>\n",
       "      <th>1</th>\n",
       "      <td>2.577400e-06</td>\n",
       "      <td>1</td>\n",
       "    </tr>\n",
       "    <tr>\n",
       "      <th>2</th>\n",
       "      <td>9.584053e-07</td>\n",
       "      <td>1</td>\n",
       "    </tr>\n",
       "    <tr>\n",
       "      <th>3</th>\n",
       "      <td>-9.758388e-07</td>\n",
       "      <td>1</td>\n",
       "    </tr>\n",
       "    <tr>\n",
       "      <th>4</th>\n",
       "      <td>-2.584147e-06</td>\n",
       "      <td>1</td>\n",
       "    </tr>\n",
       "    <tr>\n",
       "      <th>...</th>\n",
       "      <td>...</td>\n",
       "      <td>...</td>\n",
       "    </tr>\n",
       "    <tr>\n",
       "      <th>30995</th>\n",
       "      <td>-7.019216e-10</td>\n",
       "      <td>1</td>\n",
       "    </tr>\n",
       "    <tr>\n",
       "      <th>30996</th>\n",
       "      <td>-7.019216e-10</td>\n",
       "      <td>1</td>\n",
       "    </tr>\n",
       "    <tr>\n",
       "      <th>30997</th>\n",
       "      <td>-7.019216e-10</td>\n",
       "      <td>1</td>\n",
       "    </tr>\n",
       "    <tr>\n",
       "      <th>30998</th>\n",
       "      <td>-7.019216e-10</td>\n",
       "      <td>1</td>\n",
       "    </tr>\n",
       "    <tr>\n",
       "      <th>30999</th>\n",
       "      <td>-7.019216e-10</td>\n",
       "      <td>1</td>\n",
       "    </tr>\n",
       "  </tbody>\n",
       "</table>\n",
       "<p>31000 rows × 2 columns</p>\n",
       "</div>"
      ],
      "text/plain": [
       "            EEG Fp1  Action\n",
       "0      3.525820e-06       1\n",
       "1      2.577400e-06       1\n",
       "2      9.584053e-07       1\n",
       "3     -9.758388e-07       1\n",
       "4     -2.584147e-06       1\n",
       "...             ...     ...\n",
       "30995 -7.019216e-10       1\n",
       "30996 -7.019216e-10       1\n",
       "30997 -7.019216e-10       1\n",
       "30998 -7.019216e-10       1\n",
       "30999 -7.019216e-10       1\n",
       "\n",
       "[31000 rows x 2 columns]"
      ]
     },
     "execution_count": 29,
     "metadata": {},
     "output_type": "execute_result"
    }
   ],
   "source": [
    "trainData"
   ]
  },
  {
   "cell_type": "code",
   "execution_count": null,
   "id": "1b0e818f",
   "metadata": {},
   "outputs": [],
   "source": []
  },
  {
   "cell_type": "code",
   "execution_count": null,
   "id": "d6c30e32",
   "metadata": {},
   "outputs": [],
   "source": []
  },
  {
   "cell_type": "code",
   "execution_count": null,
   "id": "2553ae11",
   "metadata": {},
   "outputs": [],
   "source": []
  }
 ],
 "metadata": {
  "kernelspec": {
   "display_name": "Python 3",
   "language": "python",
   "name": "python3"
  },
  "language_info": {
   "codemirror_mode": {
    "name": "ipython",
    "version": 3
   },
   "file_extension": ".py",
   "mimetype": "text/x-python",
   "name": "python",
   "nbconvert_exporter": "python",
   "pygments_lexer": "ipython3",
   "version": "3.8.8"
  }
 },
 "nbformat": 4,
 "nbformat_minor": 5
}
